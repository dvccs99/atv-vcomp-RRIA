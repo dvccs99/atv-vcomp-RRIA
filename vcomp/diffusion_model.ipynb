{
 "cells": [
  {
   "cell_type": "markdown",
   "metadata": {},
   "source": [
    "### Modelos de difusão\n",
    "\n",
    "Avalie o resultado de geração de imagens com diferentes números de steps de inferência."
   ]
  }
 ],
 "metadata": {
  "language_info": {
   "name": "python"
  }
 },
 "nbformat": 4,
 "nbformat_minor": 2
}
